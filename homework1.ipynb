{
 "cells": [
  {
   "cell_type": "markdown",
   "metadata": {},
   "source": [
    "To complete the homework simply fill in your answers in this jupyter notebook!\n",
    "\n",
    "Remember that there are many ways in which markup cells can be used and you can add useful things such as references and images to better explain your answers.\n",
    "\n",
    "It is perfectly fine if you copy your answer from somewhere else in the internet as long as you understand the code you copied and cite the source. However, refrain from asking help for your colleagues (unless you're really struggling) as the ability to find information online is crucial for any tech role you might want to have in the future.\n",
    "\n",
    "<h1> Question 1: Multiple prints</h1>\n",
    "Create 3 different variables of different types and print their values using a single print statement."
   ]
  },
  {
   "cell_type": "code",
   "execution_count": 16,
   "metadata": {},
   "outputs": [],
   "source": [
    "flow=1.75\n",
    "inte=2\n",
    "stri='bone'\n"
   ]
  },
  {
   "cell_type": "code",
   "execution_count": 18,
   "metadata": {},
   "outputs": [
    {
     "name": "stdout",
     "output_type": "stream",
     "text": [
      "1.75 2 bone\n"
     ]
    }
   ],
   "source": [
    "print(flow,inte,stri)"
   ]
  },
  {
   "cell_type": "markdown",
   "metadata": {},
   "source": [
    "<h1> Question 2: Data structures</h1>\n",
    "Create two variables containing each a nested list and a nested dictionary and demonstrate how to access specific items of it."
   ]
  },
  {
   "cell_type": "code",
   "execution_count": 11,
   "metadata": {
    "tags": []
   },
   "outputs": [],
   "source": [
    "mclisty=['mcface', 'mcboat', 'mcdog', 'mcplant']\n",
    "mcdict={'wordy 1' : 'things', \n",
    "        'wordy 2' : 'spook' ,\n",
    "        'wordy 3' : 'cats' ,\n",
    "        'wordy 4' : 'stupid'} \n"
   ]
  },
  {
   "cell_type": "code",
   "execution_count": 33,
   "metadata": {},
   "outputs": [
    {
     "name": "stdout",
     "output_type": "stream",
     "text": [
      "mcplant\n"
     ]
    },
    {
     "data": {
      "text/plain": [
       "'spook'"
      ]
     },
     "execution_count": 33,
     "metadata": {},
     "output_type": "execute_result"
    }
   ],
   "source": [
    "print(mclisty[3])\n",
    "\n",
    "mcdict['wordy 2']"
   ]
  },
  {
   "cell_type": "code",
   "execution_count": 43,
   "metadata": {},
   "outputs": [
    {
     "data": {
      "text/plain": [
       "dict_keys(['wordy 1', 'wordy 2', 'wordy 3', 'wordy 4'])"
      ]
     },
     "execution_count": 43,
     "metadata": {},
     "output_type": "execute_result"
    }
   ],
   "source": [
    "mcdict.keys()\n"
   ]
  },
  {
   "cell_type": "code",
   "execution_count": 41,
   "metadata": {},
   "outputs": [
    {
     "name": "stdout",
     "output_type": "stream",
     "text": [
      "{'wordy 1': 'things', 'wordy 2': 'spook', 'wordy 3': 'cats', 'wordy 4': 'stupid'}\n"
     ]
    }
   ],
   "source": [
    "print(mcdict)"
   ]
  },
  {
   "cell_type": "code",
   "execution_count": 61,
   "metadata": {},
   "outputs": [
    {
     "name": "stdout",
     "output_type": "stream",
     "text": [
      "[1, 2, 3, 4]\n",
      "[2, 4, 6, 8]\n",
      "[3, 6, 9]\n"
     ]
    }
   ],
   "source": [
    "a_list = [1,2,3,4,5,6,7,8,9]\n",
    "print(a_list[0:4])\n",
    "a_new_list = [x for x in a_list if x % 2==0]\n",
    "print(a_new_list)\n",
    "a_newer_list = [x for x in a_list if x % 3 == 0]\n",
    "print(a_newer_list)\n"
   ]
  },
  {
   "cell_type": "markdown",
   "metadata": {},
   "source": [
    "1 - slice this list (by index) to contain only the numbers smaller than 5; <br>\n",
    "2 - make a loop to create a new list containing only the EVEN numbers of this list (bonus point if you use a list comprehension!!);<br>\n",
    "3 - make a loop to create a new list containing only the numbers that are multiples of 3;<br>\n",
    "Bonus - make a loop that will print every item on the list inside a sentence using a f-string."
   ]
  },
  {
   "cell_type": "markdown",
   "metadata": {},
   "source": [
    "<h1>Question 3: Creating functions</h1>\n",
    "\n",
    "Create a function that takes a list of numbers and convert them into strings. (bonus point if you use a list comprehension!!)"
   ]
  },
  {
   "cell_type": "code",
   "execution_count": 115,
   "metadata": {},
   "outputs": [
    {
     "data": {
      "text/plain": [
       "1"
      ]
     },
     "execution_count": 115,
     "metadata": {},
     "output_type": "execute_result"
    }
   ],
   "source": [
    "1"
   ]
  },
  {
   "cell_type": "code",
   "execution_count": 117,
   "metadata": {},
   "outputs": [
    {
     "data": {
      "text/plain": [
       "'1'"
      ]
     },
     "execution_count": 117,
     "metadata": {},
     "output_type": "execute_result"
    }
   ],
   "source": [
    "variable = 1\n",
    "str(variable)"
   ]
  },
  {
   "cell_type": "code",
   "execution_count": 119,
   "metadata": {},
   "outputs": [],
   "source": [
    "yet_another_list = []"
   ]
  },
  {
   "cell_type": "code",
   "execution_count": 121,
   "metadata": {},
   "outputs": [
    {
     "data": {
      "text/plain": [
       "[]"
      ]
     },
     "execution_count": 121,
     "metadata": {},
     "output_type": "execute_result"
    }
   ],
   "source": [
    "yet_another_list"
   ]
  },
  {
   "cell_type": "code",
   "execution_count": 77,
   "metadata": {},
   "outputs": [
    {
     "name": "stdout",
     "output_type": "stream",
     "text": [
      "['1', '2', '3', '4']\n"
     ]
    }
   ],
   "source": [
    "# below 3 lines in this cell are mine, but I found all the cells here \n",
    "# confusing and just used the simple example you have further below \n",
    "# which I *think* I understand \n",
    "num_list = [1,2,3,4]\n",
    "num_list_2=[str(number) for number in num_list]\n",
    "print(num_list_2)"
   ]
  },
  {
   "cell_type": "code",
   "execution_count": null,
   "metadata": {},
   "outputs": [],
   "source": []
  },
  {
   "cell_type": "code",
   "execution_count": 65,
   "metadata": {},
   "outputs": [
    {
     "ename": "TypeError",
     "evalue": "numberToString() got an unexpected keyword argument 'the_list'",
     "output_type": "error",
     "traceback": [
      "\u001b[0;31m---------------------------------------------------------------------------\u001b[0m",
      "\u001b[0;31mTypeError\u001b[0m                                 Traceback (most recent call last)",
      "Input \u001b[0;32mIn [65]\u001b[0m, in \u001b[0;36m<cell line: 3>\u001b[0;34m()\u001b[0m\n\u001b[1;32m      1\u001b[0m my_list \u001b[38;5;241m=\u001b[39m [\u001b[38;5;241m1\u001b[39m,\u001b[38;5;241m2\u001b[39m,\u001b[38;5;241m3\u001b[39m,\u001b[38;5;241m4\u001b[39m,\u001b[38;5;241m5\u001b[39m]\n\u001b[0;32m----> 3\u001b[0m \u001b[43mnumberToString\u001b[49m\u001b[43m(\u001b[49m\u001b[43mthe_list\u001b[49m\u001b[38;5;241;43m=\u001b[39;49m\u001b[43mmy_list\u001b[49m\u001b[43m)\u001b[49m\n",
      "\u001b[0;31mTypeError\u001b[0m: numberToString() got an unexpected keyword argument 'the_list'"
     ]
    }
   ],
   "source": [
    "my_list = [1,2,3,4,5]\n",
    "\n",
    "numberToString(the_list=my_list)"
   ]
  },
  {
   "cell_type": "code",
   "execution_count": 20,
   "metadata": {},
   "outputs": [
    {
     "data": {
      "text/plain": [
       "['1', '2', '3', '4', '5']"
      ]
     },
     "execution_count": 20,
     "metadata": {},
     "output_type": "execute_result"
    }
   ],
   "source": [
    "new_list = [str(number) for number in my_list]\n",
    "new_list"
   ]
  },
  {
   "cell_type": "code",
   "execution_count": 19,
   "metadata": {},
   "outputs": [
    {
     "data": {
      "text/plain": [
       "['0', '1', '2', '3', '4', '5', '6', '7', '8', '9']"
      ]
     },
     "execution_count": 19,
     "metadata": {},
     "output_type": "execute_result"
    }
   ],
   "source": [
    "new_list = [str(number) for number in range(10)]\n",
    "new_list"
   ]
  },
  {
   "cell_type": "markdown",
   "metadata": {},
   "source": [
    "Create a small calculator. The function should pick two numbers and perform one of four mathematical operations with it (sum/subtraction, division, multiplication, exponents). The desired operation should be an option (hint: what IF the user wants to do a sum?)\n",
    "\n",
    "Bonus: Make a function that can pick ANY number of numbers."
   ]
  },
  {
   "cell_type": "code",
   "execution_count": 95,
   "metadata": {},
   "outputs": [
    {
     "data": {
      "text/plain": [
       "5"
      ]
     },
     "execution_count": 95,
     "metadata": {},
     "output_type": "execute_result"
    }
   ],
   "source": [
    "def sum_add(num1, num2):\n",
    "    return num1 + num2\n",
    "\n",
    "sum_add(3,2)\n",
    "# see below for ANY number of numbers"
   ]
  },
  {
   "cell_type": "code",
   "execution_count": null,
   "metadata": {},
   "outputs": [],
   "source": []
  },
  {
   "cell_type": "code",
   "execution_count": 93,
   "metadata": {},
   "outputs": [
    {
     "data": {
      "text/plain": [
       "13"
      ]
     },
     "execution_count": 93,
     "metadata": {},
     "output_type": "execute_result"
    }
   ],
   "source": [
    "#google helped me understand \"nums\" - whilst I can see what the\n",
    "# *asterisk is doing in this context, I am not udnerstanding its \n",
    "# full function - could you explain, please? \n",
    "def sum_add_2(*nums):\n",
    "    return sum(nums)\n",
    "sum_add_2(3, 1, 4, 5)"
   ]
  },
  {
   "cell_type": "code",
   "execution_count": 153,
   "metadata": {},
   "outputs": [
    {
     "data": {
      "text/plain": [
       "6"
      ]
     },
     "execution_count": 153,
     "metadata": {},
     "output_type": "execute_result"
    }
   ],
   "source": [
    "def multiply(*nums):\n",
    "    return nums[0] * nums[1]\n",
    "\n",
    "multiply(3,2)"
   ]
  },
  {
   "cell_type": "code",
   "execution_count": 145,
   "metadata": {},
   "outputs": [
    {
     "data": {
      "text/plain": [
       "3.0"
      ]
     },
     "execution_count": 145,
     "metadata": {},
     "output_type": "execute_result"
    }
   ],
   "source": [
    "def divide(*nums):\n",
    "    return nums[0] / nums [1]\n",
    "\n",
    "divide(6,2)"
   ]
  },
  {
   "cell_type": "code",
   "execution_count": 147,
   "metadata": {},
   "outputs": [
    {
     "data": {
      "text/plain": [
       "4"
      ]
     },
     "execution_count": 147,
     "metadata": {},
     "output_type": "execute_result"
    }
   ],
   "source": [
    "def subtract(*nums):\n",
    "    return nums[0] - nums[1]\n",
    "\n",
    "subtract(6,2)"
   ]
  },
  {
   "cell_type": "code",
   "execution_count": 163,
   "metadata": {},
   "outputs": [],
   "source": [
    "#I am not 100% clear on how to make this where someone\n",
    "#can choose the operation without further defining and asking for choices\n",
    "# or some kind of user input?\n",
    "# I found this, and other examples like it\n",
    "# which I understand mostly, but will not copy out here\n",
    "# was this the type of thing you were expecting?\n",
    "# https://phoenixnap.com/kb/python-calculator"
   ]
  },
  {
   "cell_type": "markdown",
   "metadata": {},
   "source": [
    "Create a function that check if a number is within a list of numbers."
   ]
  },
  {
   "cell_type": "code",
   "execution_count": 189,
   "metadata": {},
   "outputs": [
    {
     "name": "stdout",
     "output_type": "stream",
     "text": [
      "True\n"
     ]
    }
   ],
   "source": [
    "test_list = [1,4,6,9,11,56,7,43]\n",
    "print(11 in test_list)\n",
    "# with the help of google when I made a mistake searching index instead\n",
    "# of value"
   ]
  },
  {
   "cell_type": "markdown",
   "metadata": {},
   "source": [
    "Bonus: similar to the item above, create a function that checks if a string contains a given substring, e.g. 'I have a cat' contains the string sequence 'cat' or 'ave'."
   ]
  },
  {
   "cell_type": "code",
   "execution_count": 193,
   "metadata": {},
   "outputs": [
    {
     "name": "stdout",
     "output_type": "stream",
     "text": [
      "True\n"
     ]
    }
   ],
   "source": [
    "la_de_da = 'I have a dog called Jack'\n",
    "print('dog' in la_de_da)\n",
    "# how to do this for more than one string? \n",
    "# eg if dog AND Jack print 'both', if \n",
    "# Jack print 'Jack' etc. "
   ]
  },
  {
   "cell_type": "code",
   "execution_count": null,
   "metadata": {},
   "outputs": [],
   "source": [
    "\n"
   ]
  },
  {
   "cell_type": "markdown",
   "metadata": {},
   "source": [
    "Bonus: create a function that given the initial speed of a projectile that is thrown at 90 degrees will calculate how much time the projectile will take to get back to the initial altitude. (yes you're expected to disregard air resistence)"
   ]
  },
  {
   "cell_type": "code",
   "execution_count": 225,
   "metadata": {},
   "outputs": [],
   "source": [
    "import numpy as np"
   ]
  },
  {
   "cell_type": "code",
   "execution_count": 213,
   "metadata": {},
   "outputs": [],
   "source": [
    "# T = 2(v sin 0) / gravity\n",
    "# time = 2 (vel sin angle) / 9.81m/s ^2\n",
    "# time = 2 (25 sin 90) / 9.81\n",
    "# lets say velocity is 25 m/s for angle 90"
   ]
  },
  {
   "cell_type": "code",
   "execution_count": 247,
   "metadata": {},
   "outputs": [
    {
     "data": {
      "text/plain": [
       "4.556557918453404"
      ]
     },
     "execution_count": 247,
     "metadata": {},
     "output_type": "execute_result"
    }
   ],
   "source": [
    "def proj_time():\n",
    "    return (2 * 25) * np.sin(90) / 9.81\n",
    "\n",
    "proj_time()\n",
    "# I googled something way too complex in python but it helped me realise I needed \n",
    "# numpy so I wrote the formula based on the \"normal\" formula I found (cell 213)\n",
    "# since I can't remember any A-level (or GCSE physics) !\n",
    "# used this https://stackoverflow.com/questions/34232664/projectile-motion-simple-simulation-using-numpy-matplotlib-python"
   ]
  },
  {
   "cell_type": "code",
   "execution_count": 239,
   "metadata": {},
   "outputs": [],
   "source": [
    "# I don't want to round it, but perhaps say \"4.5s\"\n",
    "# how to do that?\n"
   ]
  },
  {
   "cell_type": "code",
   "execution_count": null,
   "metadata": {},
   "outputs": [],
   "source": [
    "<h1>solve these questions...or ELSE</h1>\n",
    "\n",
    "Why the nested if statement below doesn't only produce the first print? Can you modify it so it produces the desired output?"
   ]
  },
  {
   "cell_type": "code",
   "execution_count": 63,
   "metadata": {},
   "outputs": [
    {
     "name": "stdout",
     "output_type": "stream",
     "text": [
      "Yeeeey!\n"
     ]
    }
   ],
   "source": [
    "food = 'Pizza'\n",
    "drinks = 'Beer'\n",
    "\n",
    "if food == 'Pizza' and drinks == 'Beer':\n",
    "    print('Yeeeey!')\n",
    "elif food == 'Pizza' and drinks != 'Beer':\n",
    "    print('Yey.')\n",
    "elif food != 'Pizza' and drinks == 'Beer':\n",
    "    print('Yey!')\n",
    "else:\n",
    "    print('.....???')"
   ]
  },
  {
   "cell_type": "markdown",
   "metadata": {},
   "source": [
    "<h1> Debugging </h1>\n",
    "None of the blocks of code below work. Your task is to make them work (if possible!) and add markup cells (or comments) explaining why they don't work."
   ]
  },
  {
   "cell_type": "markdown",
   "metadata": {},
   "source": [
    "print(\"Is this working?\")"
   ]
  },
  {
   "cell_type": "code",
   "execution_count": 65,
   "metadata": {},
   "outputs": [
    {
     "name": "stdout",
     "output_type": "stream",
     "text": [
      "does this work?\n"
     ]
    }
   ],
   "source": [
    "print(\"does this work?\")\n",
    "#took out comment hashtag to make it work"
   ]
  },
  {
   "cell_type": "code",
   "execution_count": 69,
   "metadata": {},
   "outputs": [
    {
     "name": "stdout",
     "output_type": "stream",
     "text": [
      "about now?\n"
     ]
    }
   ],
   "source": [
    "print('about now?')\n",
    "#changed quote mark types to be the same '' not \" '"
   ]
  },
  {
   "cell_type": "code",
   "execution_count": 71,
   "metadata": {},
   "outputs": [
    {
     "name": "stdout",
     "output_type": "stream",
     "text": [
      "Today on a scale from 1 to 10 I am feeling... 10\n"
     ]
    }
   ],
   "source": [
    "text_variable = \"Today on a scale from 1 to 10 I am feeling...\"\n",
    "my_mood = 10\n",
    "print(text_variable, my_mood)\n",
    "#added comma between variables"
   ]
  },
  {
   "cell_type": "code",
   "execution_count": 79,
   "metadata": {},
   "outputs": [
    {
     "name": "stdout",
     "output_type": "stream",
     "text": [
      "Today on a scale from 1 to 10 I am feeling...10\n"
     ]
    }
   ],
   "source": [
    "text_variable = \"Today on a scale from 1 to 10 I am feeling...\"\n",
    "my_mood = '10'\n",
    "print(text_variable+my_mood) #Yep there are ways to make it work with a + operator too!\n",
    "#changed variblae of my_mood from int to str by adding quotes so\n",
    "#it wasn't trying to add str + int "
   ]
  },
  {
   "cell_type": "code",
   "execution_count": 85,
   "metadata": {},
   "outputs": [],
   "source": [
    "a_dictionary = {'item1' : 'Value 1',\n",
    "                'item2' : 'value 2',}\n",
    "#added quotes around item1 item2"
   ]
  },
  {
   "cell_type": "code",
   "execution_count": 89,
   "metadata": {},
   "outputs": [
    {
     "data": {
      "text/plain": [
       "True"
      ]
     },
     "execution_count": 89,
     "metadata": {},
     "output_type": "execute_result"
    }
   ],
   "source": [
    " # Should return True \n",
    "    #needed == not =\n",
    "1==1"
   ]
  },
  {
   "cell_type": "code",
   "execution_count": 93,
   "metadata": {},
   "outputs": [
    {
     "name": "stdout",
     "output_type": "stream",
     "text": [
      "Clap your hands\n"
     ]
    }
   ],
   "source": [
    "# Why isn't the outcome 'Clap your hands?'\n",
    "#because the varibale value is case sensitive Happy happy\n",
    "mood = 'happy'\n",
    "if mood == 'happy':\n",
    "    print('Clap your hands')\n",
    "else:\n",
    "    print('...do I look like I have this one figured out?')"
   ]
  },
  {
   "cell_type": "code",
   "execution_count": 103,
   "metadata": {},
   "outputs": [
    {
     "name": "stdout",
     "output_type": "stream",
     "text": [
      "a word another word\n"
     ]
    }
   ],
   "source": [
    "def printerfunction(x,y):\n",
    "    print(x,y)\n",
    "\n",
    "printerfunction(\"a word\", \"another word\")\n",
    "#needed to indent print(), but the notebook told me that! "
   ]
  },
  {
   "cell_type": "code",
   "execution_count": 111,
   "metadata": {},
   "outputs": [
    {
     "name": "stdout",
     "output_type": "stream",
     "text": [
      "Clap your hands\n"
     ]
    }
   ],
   "source": [
    "# bonus/annoying round, why is this crashing?\n",
    "mood = 'happy'\n",
    "if mood == 'happy':\n",
    "    print('Clap your hands')\n",
    "else:\n",
    "    print('...do I look like I have this one figured out?')\n",
    "    \n",
    "   #changed the case of Happy to happy and added extra space\n",
    "# ONE space only for indenting print()!!"
   ]
  },
  {
   "cell_type": "code",
   "execution_count": null,
   "metadata": {},
   "outputs": [],
   "source": []
  }
 ],
 "metadata": {
  "kernelspec": {
   "display_name": "anaconda-2022.05-py39",
   "language": "python",
   "name": "conda-env-anaconda-2022.05-py39-py"
  },
  "language_info": {
   "codemirror_mode": {
    "name": "ipython",
    "version": 3
   },
   "file_extension": ".py",
   "mimetype": "text/x-python",
   "name": "python",
   "nbconvert_exporter": "python",
   "pygments_lexer": "ipython3",
   "version": "3.9.12"
  }
 },
 "nbformat": 4,
 "nbformat_minor": 4
}
